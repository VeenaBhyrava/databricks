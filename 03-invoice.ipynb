{
 "cells": [
  {
   "cell_type": "code",
   "execution_count": 0,
   "metadata": {
    "application/vnd.databricks.v1+cell": {
     "cellMetadata": {
      "byteLimit": 2048000,
      "rowLimit": 10000
     },
     "inputWidgets": {},
     "nuid": "02b041fc-c47a-4b5c-8fcf-79157516429f",
     "showTitle": false,
     "title": ""
    }
   },
   "outputs": [],
   "source": [
    "class invoiceStream():\n",
    "    def __init__(self):\n",
    "        self.base_dir=\"/FileStore/project1\"\n",
    "\n",
    "    def getSchema(self):\n",
    "        return \"\"\"InvoiceNumber string, CreatedTime bigint, StoreID string, PosID string, CashierID string,\n",
    "                CustomerType string, CustomerCardNo string, TotalAmount double, NumberOfItems bigint, \n",
    "                PaymentMethod string, TaxableAmount double, CGST double, SGST double, CESS double, \n",
    "                DeliveryType string,\n",
    "                InvoiceLineItems array<struct<ItemCode string, ItemDescription string, \n",
    "                    ItemPrice double, ItemQty bigint, TotalValue double>>\n",
    "            \"\"\"\n",
    "    def readInvoices(self):\n",
    "        return (spark.readStream\\\n",
    "            .format(\"json\")\\\n",
    "            .schema(self.getSchema())\n",
    "            .load(f\"{self.base_dir}/data/invoices\"))\n",
    "    \n",
    "    def explodeInvoices(self,invoiceDf):\n",
    "        from pyspark.sql.functions import explode\n",
    "        explodeDf=invoiceDf.selectExpr(\"InvoiceNumber\",\"CreatedTime\",\"StoreID\",\"PosID\",\"CustomerType\",\"PaymentMethod\",\"DeliveryType\",\"explode(InvoiceLineItems) as LineItems\")\n",
    "        return explodeDf\n",
    "    \n",
    "    def flattenInvoice(self,explodeDf):\n",
    "        from pyspark.sql.functions import expr\n",
    "        flattenDf=explodeDf.withColumn(\"ItemCode\",expr(\"LineItems.ItemCode\"))\\\n",
    "                        .withColumn(\"ItemDescription\",expr(\"LineItems.ItemDescription\"))\\\n",
    "                        .withColumn(\"ItemPrice\",expr(\"LineItems.ItemPrice\"))\\\n",
    "                        .withColumn(\"ItemQty\",expr(\"LineItems.ItemQty\"))\\\n",
    "                        .withColumn(\"TotalValue\",expr(\"LineItems.TotalValue\"))\\\n",
    "                        .drop(\"LineItems\")\n",
    "        return flattenDf\n",
    "    \n",
    "    def appendInvoices(self,flattenDf):\n",
    "        return flattenDf.writeStream.format(\"Delta\")\\\n",
    "            .option(\"checkpointLocation\",f\"{self.base_dir}/checkpoint/invoices\")\\\n",
    "            .outputMode(\"append\")\\\n",
    "            .toTable(\"invoice_lineItem_table\")\n",
    "    \n",
    "    def process(self):\n",
    "        print(\"\\t starting the processing of invoices .....\",end='')\n",
    "        invoiceDf=self.readInvoices()\n",
    "        explodeDf=self.explodeInvoices(invoiceDf)\n",
    "        flattenDf=self.flattenInvoice(explodeDf)\n",
    "        sQuery=self.appendInvoices(flattenDf)\n",
    "        print(\"\\nDone..\\n\")\n",
    "        return sQuery\n",
    "    \n",
    "\n",
    "\n",
    "    \n",
    "\n",
    "\n",
    "\n",
    "\n",
    "    \n",
    "\n",
    "\n",
    "\n"
   ]
  }
 ],
 "metadata": {
  "application/vnd.databricks.v1+notebook": {
   "dashboards": [],
   "environmentMetadata": null,
   "language": "python",
   "notebookMetadata": {
    "mostRecentlyExecutedCommandWithImplicitDF": {
     "commandId": 2408229312098868,
     "dataframes": [
      "_sqldf"
     ]
    },
    "pythonIndentUnit": 4
   },
   "notebookName": "03-invoice",
   "widgets": {}
  }
 },
 "nbformat": 4,
 "nbformat_minor": 0
}
