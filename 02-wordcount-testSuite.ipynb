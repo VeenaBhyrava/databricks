{
 "cells": [
  {
   "cell_type": "code",
   "execution_count": 0,
   "metadata": {
    "application/vnd.databricks.v1+cell": {
     "cellMetadata": {
      "byteLimit": 2048000,
      "rowLimit": 10000
     },
     "inputWidgets": {},
     "nuid": "58c9aaee-4ac6-4609-9e92-ae823ac9465d",
     "showTitle": false,
     "title": ""
    }
   },
   "outputs": [
    {
     "output_type": "stream",
     "name": "stdout",
     "output_type": "stream",
     "text": [
      "Out[63]: True"
     ]
    }
   ],
   "source": [
    "%run ./01-wordcount"
   ]
  },
  {
   "cell_type": "code",
   "execution_count": 0,
   "metadata": {
    "application/vnd.databricks.v1+cell": {
     "cellMetadata": {
      "byteLimit": 2048000,
      "rowLimit": 10000
     },
     "inputWidgets": {},
     "nuid": "fe3d95c2-f7df-4927-a84c-3292aad65ceb",
     "showTitle": false,
     "title": ""
    }
   },
   "outputs": [
    {
     "output_type": "stream",
     "name": "stdout",
     "output_type": "stream",
     "text": [
      "directory cleaning started.....Done!\n\nproject is setup and you can run your code now!!!!\n\tData ingestion started for itr_1........Done!\n\n\tExecuting word count...Done!\n\n\tvalidation started...done\n\n\tData ingestion started for itr_2........Done!\n\n\tExecuting word count...Done!\n\n\tvalidation started...done\n\n\tData ingestion started for itr_3........Done!\n\n\tExecuting word count...Done!\n\n\tvalidation started...done\n\n"
     ]
    }
   ],
   "source": [
    "class test:\n",
    "    def __init__(self):\n",
    "        self.base_dir=\"/FileStore/project1\"\n",
    "\n",
    "    def cleanTests(self):\n",
    "        print(\"directory cleaning started.....\",end='')\n",
    "        spark.sql(\"drop table if exists word_count_table\")\n",
    "        dbutils.fs.rm(\"/user/hive/warehouse/word_count_table\", True)\n",
    "        dbutils.fs.rm(f\"{self.base_dir}/data/text\", True)\n",
    "        dbutils.fs.rm(f\"{self.base_dir}/checkpoint/word-count\", True)\n",
    "\n",
    "        dbutils.fs.mkdirs(f\"{self.base_dir}/data/text\")\n",
    "        print(\"Done!\\n\")\n",
    "        print(\"project is setup and you can run your code now!!!!\")\n",
    "\n",
    "    def ingestData(self,itr):\n",
    "        print(f\"\\tData ingestion started for itr_{itr}........\",end='')\n",
    "        dbutils.fs.cp(f\"FileStore/datasets/text/text_data_{itr}.txt\",f\"{self.base_dir}/data/text\")\n",
    "        print(\"Done!\\n\")\n",
    "\n",
    "    def assertRes(self,expectedCount):\n",
    "        print(\"\\tvalidation started...\",end='')\n",
    "        actual_count=spark.sql(\"select sum(count) from word_count_table where substr(words,1,1)=='s'\").collect()[0][0]\n",
    "        assert actual_count==expectedCount , f\"failed tests ..expected count is {expectedCount}\"\n",
    "        print(\"done\\n\")\n",
    "\n",
    "    def run_tests(self):\n",
    "        self.cleanTests()\n",
    "        wc=batch_count()\n",
    "        self.ingestData(1)\n",
    "        wc.computeBatch()\n",
    "        self.assertRes(25)\n",
    "\n",
    "        self.ingestData(2)\n",
    "        wc.computeBatch()\n",
    "        self.assertRes(32)\n",
    "\n",
    "        self.ingestData(3)\n",
    "        wc.computeBatch()\n",
    "        self.assertRes(37)\n",
    "\n",
    "obj=test()\n",
    "obj.run_tests()\n",
    "        "
   ]
  },
  {
   "cell_type": "code",
   "execution_count": 0,
   "metadata": {
    "application/vnd.databricks.v1+cell": {
     "cellMetadata": {
      "byteLimit": 2048000,
      "rowLimit": 10000
     },
     "inputWidgets": {},
     "nuid": "ec55640f-9f6d-46f3-96bb-e1e5a198564e",
     "showTitle": false,
     "title": ""
    }
   },
   "outputs": [
    {
     "output_type": "stream",
     "name": "stdout",
     "output_type": "stream",
     "text": [
      "directory cleaning started.....Done!\n\nproject is setup and you can run your code now!!!!\n\tExecuting word count...Done!\n\n\tData ingestion started for itr_1........Done!\n\n\tvalidation started...done\n\n\tData ingestion started for itr_2........Done!\n\n\tvalidation started...done\n\n\tData ingestion started for itr_3........Done!\n\n\tvalidation started...done\n\n"
     ]
    }
   ],
   "source": [
    "class test_stream:\n",
    "    def __init__(self):\n",
    "        self.base_dir=\"/FileStore/project1\"\n",
    "\n",
    "    def cleanTests(self):\n",
    "        print(\"directory cleaning started.....\",end='')\n",
    "        spark.sql(\"drop table if exists word_count_table\")\n",
    "        dbutils.fs.rm(\"/user/hive/warehouse/word_count_table\", True)\n",
    "        dbutils.fs.rm(f\"{self.base_dir}/data/text\", True)\n",
    "        dbutils.fs.rm(f\"{self.base_dir}/checkpoint\", True)\n",
    "\n",
    "        dbutils.fs.mkdirs(f\"{self.base_dir}/data/text\")\n",
    "        print(\"Done!\\n\")\n",
    "        print(\"project is setup and you can run your code now!!!!\")\n",
    "\n",
    "    def ingestData(self,itr):\n",
    "        print(f\"\\tData ingestion started for itr_{itr}........\",end='')\n",
    "        dbutils.fs.cp(f\"FileStore/datasets/text/text_data_{itr}.txt\",f\"{self.base_dir}/data/text\")\n",
    "        print(\"Done!\\n\")\n",
    "\n",
    "    def assertRes(self,expectedCount):\n",
    "        print(\"\\tvalidation started...\",end='')\n",
    "        actual_count=spark.sql(\"select sum(count) from word_count_table where substr(words,1,1)=='s'\").collect()[0][0]\n",
    "        assert actual_count==expectedCount , f\"failed tests ..expected count is {expectedCount} but the actual_count is {actual_count}\"\n",
    "        print(\"done\\n\")\n",
    "\n",
    "    def run_tests(self):\n",
    "        import time\n",
    "        \n",
    "        self.cleanTests()\n",
    "        wc=stream_count()\n",
    "        sQuery=wc.computeStream()\n",
    "        \n",
    "\n",
    "        self.ingestData(1)\n",
    "        time.sleep(60)\n",
    "        self.assertRes(25)\n",
    "\n",
    "        self.ingestData(2)\n",
    "        time.sleep(60)\n",
    "        self.assertRes(32)\n",
    "\n",
    "        self.ingestData(3)\n",
    "        time.sleep(60)\n",
    "        self.assertRes(37)\n",
    "\n",
    "        sQuery.stop()\n",
    "\n",
    "\n",
    "obj=test_stream()\n",
    "obj.run_tests()\n",
    "        "
   ]
  }
 ],
 "metadata": {
  "application/vnd.databricks.v1+notebook": {
   "dashboards": [],
   "environmentMetadata": null,
   "language": "python",
   "notebookMetadata": {
    "mostRecentlyExecutedCommandWithImplicitDF": {
     "commandId": -1,
     "dataframes": [
      "_sqldf"
     ]
    },
    "pythonIndentUnit": 4
   },
   "notebookName": "02-wordcount-testSuite",
   "widgets": {}
  }
 },
 "nbformat": 4,
 "nbformat_minor": 0
}
